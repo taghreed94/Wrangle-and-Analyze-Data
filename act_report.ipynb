{
 "cells": [
  {
   "cell_type": "markdown",
   "metadata": {},
   "source": [
    "## Insights & Visualization"
   ]
  },
  {
   "cell_type": "markdown",
   "metadata": {},
   "source": [
    "### Most Common Dogs' Rates in (10 - 13)\n",
    "Most of the the dogs have the rate of 12/10.\n",
    "\n",
    "Excepting the outliers rates (that having one occurrence), the highest rate dogs can have is 14/10.\n",
    "\n",
    "![alt text](https://github.com/taghreed94/Wrangle-and-Analyze-Data-dog_rates-/blob/master/dogs-rating.png?raw=true)"
   ]
  },
  {
   "cell_type": "markdown",
   "metadata": {},
   "source": [
    "### Tweets' count is in decrease by the time\n",
    "The highest number of tweets was in (12/2015).\n",
    "\n",
    "The user becomes less active in posting by time. \n",
    "\n",
    "![alt text](https://github.com/taghreed94/Wrangle-and-Analyze-Data-dog_rates-/blob/master/tweets-count.png?raw=true) "
   ]
  },
  {
   "cell_type": "markdown",
   "metadata": {},
   "source": [
    "### Favorites' count & Retweets' count are in increase by the time\n",
    "Average favorite count is higher than average retweets count and both are increasing by time (showing positive correlation).\n",
    " \n",
    "![alt text](https://github.com/taghreed94/Wrangle-and-Analyze-Data-dog_rates-/blob/master/mean-fav-&-retweet.png?raw=true) "
   ]
  },
  {
   "cell_type": "markdown",
   "metadata": {},
   "source": [
    "### Most of the Tweets from (Twitter for iPhone)\n",
    "That shows that the user having an iphone as mobile device.\n",
    "\n",
    "93% of tweets are by Twitter for iPhone.\n",
    "\n",
    "![alt text](https://github.com/taghreed94/Wrangle-and-Analyze-Data-dog_rates-/blob/master/tweets-source.png?raw=true) "
   ]
  },
  {
   "cell_type": "markdown",
   "metadata": {},
   "source": [
    "### The Top 10 Common Breeds in tweets\n",
    "Golden Retriever is the highest common breed in tweets followed by Labrador Retriever.\n",
    "\n",
    "![alt text](https://github.com/taghreed94/Wrangle-and-Analyze-Data-dog_rates-/blob/master/top-10-dog-breed.png?raw=true) "
   ]
  }
 ],
 "metadata": {
  "kernelspec": {
   "display_name": "Python 3",
   "language": "python",
   "name": "python3"
  },
  "language_info": {
   "codemirror_mode": {
    "name": "ipython",
    "version": 3
   },
   "file_extension": ".py",
   "mimetype": "text/x-python",
   "name": "python",
   "nbconvert_exporter": "python",
   "pygments_lexer": "ipython3",
   "version": "3.7.2"
  }
 },
 "nbformat": 4,
 "nbformat_minor": 2
}
