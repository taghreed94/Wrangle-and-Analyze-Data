{
 "cells": [
  {
   "cell_type": "markdown",
   "metadata": {},
   "source": [
    "# Data Wrangling Report\n",
    "\n",
    "## Gather Data\n",
    "#### There are 3 sources of data:\n",
    "1. The given CSV file `twitter-archive-enhanced.csv` (twt_archive).\n",
    "2. The image predictions file from Udacity's server `image-predictions.tsv` (img_predict).\n",
    "\n",
    "   downloaded programmatically using the Requests library and the URL.\n",
    "   \n",
    "   \n",
    "3. The `tweet_json.txt` file \n",
    "\n",
    "   Query over tweet IDs in `twitter-archive-enhanced.csv` to get each tweet's JSON data using Python's *Tweepy* library through Twitter API\n",
    "   \n",
    "   Then read tweet's *retweet count & favorite count* from the `tweet_json.txt` file into a dataframe (twt_data)."
   ]
  },
  {
   "cell_type": "markdown",
   "metadata": {},
   "source": [
    "## Assess Data"
   ]
  },
  {
   "cell_type": "markdown",
   "metadata": {},
   "source": [
    "Assess data visually & programmatically to find Quality Issues &  \n",
    "Tidness Issues\n",
    "\n",
    "#### Quality Issues\n",
    "`twt_archive table`\n",
    "- Some old tweets that didn't found in twitter any more \n",
    "- Have in_reply & retweeted\n",
    "- Columns full of null value (in_reply_to_status_id, in_reply_to_user_id, retweeted_status_id, retweeted_status_user_id, retweeted_status_timestamp)\n",
    "- Some dogs have stages in both doggo & (floofer, pupper, puppo) columns\n",
    "- Erroneous datatype of (timestamp, retweeted_status_timestamp) columns\n",
    "- Rating_numerator column has wrong values.\n",
    "- Rating_denominator column has values other than 10\n",
    "- Some rows have wrong dog names (a, an, very, the, etc..)\n",
    "- Source column has html tags\n",
    "- stage column datatype (the column will be created while dealing with tidness issues)\n",
    "\n",
    "`img_predict table`\n",
    "- Table has Some old tweets that didn't found in twitter any more\n",
    "- Dog_breed column datatype (the column will be created while dealing with tidness issues)\n",
    "\n",
    "#### Tidness Issues\n",
    "- one variable in four columns in twt_archive table (stage)\n",
    "- twt_data table and twt_archive table must be one table\n",
    "- (p1, p1_conf, p1_dog, p2, p2_conf, p2_dog, p3, p3_conf, p3_dog) columns in img_predict table is confusing must be exchanged with one variable (dog_breed)"
   ]
  },
  {
   "cell_type": "markdown",
   "metadata": {},
   "source": [
    "## Clean Data"
   ]
  },
  {
   "cell_type": "markdown",
   "metadata": {},
   "source": [
    "Create a copy of the three tables (twt_archive, img_predict, twt_data).\n",
    "\n",
    "Clean the data programmatically for each Tidness issue & quality issue.\n",
    "\n",
    "After cleaning we have two tables (twt_data_clean & img_predict_clean)."
   ]
  },
  {
   "cell_type": "markdown",
   "metadata": {},
   "source": [
    "## Store Data"
   ]
  },
  {
   "cell_type": "markdown",
   "metadata": {},
   "source": [
    "Store the two tables in database `dogsrating.db`"
   ]
  }
 ],
 "metadata": {
  "kernelspec": {
   "display_name": "Python 3",
   "language": "python",
   "name": "python3"
  },
  "language_info": {
   "codemirror_mode": {
    "name": "ipython",
    "version": 3
   },
   "file_extension": ".py",
   "mimetype": "text/x-python",
   "name": "python",
   "nbconvert_exporter": "python",
   "pygments_lexer": "ipython3",
   "version": "3.7.2"
  }
 },
 "nbformat": 4,
 "nbformat_minor": 2
}
